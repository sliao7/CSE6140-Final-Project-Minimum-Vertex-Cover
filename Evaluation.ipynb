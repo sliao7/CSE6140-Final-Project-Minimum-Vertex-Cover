{
 "cells": [
  {
   "cell_type": "code",
   "execution_count": 1,
   "metadata": {},
   "outputs": [],
   "source": [
    "import matplotlib.pyplot as plt\n",
    "import glob\n",
    "import numpy as np"
   ]
  },
  {
   "cell_type": "code",
   "execution_count": 2,
   "metadata": {},
   "outputs": [],
   "source": [
    "opt_cutoff = {'karate':14, 'football':94, 'jazz':158, 'email':594, 'delaunay_n10':703,'netscience':899, \\\n",
    "              'power':2203,'as-22july06':3303,'hep-th':3926,'star2':4542,'star':6902}"
   ]
  },
  {
   "cell_type": "code",
   "execution_count": 33,
   "metadata": {},
   "outputs": [
    {
     "name": "stdout",
     "output_type": "stream",
     "text": [
      "{'power': [438.14532, 441.91921, 437.40028, 437.02237, 442.2073, 438.45052, 442.85901, 435.9485, 440.12172, 434.9262]}\n",
      "{'power': [4128.0, 4116.0, 4132.0, 4144.0, 4107.0, 4135.0, 4122.0, 4130.0, 4134.0, 4144.0]}\n"
     ]
    }
   ],
   "source": [
    "algo = 'GA'\n",
    "record_time, record_nV = {}, {}\n",
    "record_time_detail = {}\n",
    "for fn in glob.glob('./{}_output/power*.trace'.format(algo))[:]:\n",
    "    sub_detail = {}\n",
    "    fin = open(fn, 'r').readlines()\n",
    "    name = fn.split('/')[-1].split('_')[0]\n",
    "    try:\n",
    "        if algo == 'approx':\n",
    "            time, nV = fin[-1].split()\n",
    "        else:\n",
    "            time, nV = fin[-1].split()[0].split(',')\n",
    "    except:\n",
    "        print (fn)\n",
    "        continue\n",
    "\n",
    "    time, nV = float(time), float(nV)\n",
    "    if name not in record_time:\n",
    "        record_time[name] = [time]\n",
    "        record_nV[name] = [nV]\n",
    "    else:\n",
    "        record_time[name].append(time)\n",
    "        record_nV[name].append(nV)\n",
    "        \n",
    "#     for i in range(1, len(fin)):\n",
    "#         time, nV = fin[i].split()[0].split(',')\n",
    "#         print (time, nV)\n",
    "print (record_time)\n",
    "print (record_nV)"
   ]
  },
  {
   "cell_type": "code",
   "execution_count": 34,
   "metadata": {},
   "outputs": [
    {
     "data": {
      "image/png": "[encoded data removed]",
      "text/plain": [
       "<Figure size 432x288 with 1 Axes>"
      ]
     },
     "metadata": {
      "needs_background": "light"
     },
     "output_type": "display_data"
    }
   ],
   "source": [
    "percents = [5,6,7,8,9,10]\n",
    "maxtime = np.max(record_time['power'])\n",
    "optimal = opt_cutoff['power']\n",
    "interval = maxtime/10000.0\n",
    "x = np.arange(0, maxtime+interval, interval)\n",
    "\n",
    "# total = float(len(results))\n",
    "total = 10\n",
    "fig = plt.figure(1)\n",
    "ax = fig.add_subplot(111)\n",
    "# line for each percentage\n",
    "for p in percents:\n",
    "    c = optimal + (optimal * p/100.0)\n",
    "    y = []\n",
    "    for xval in x:\n",
    "        num_runs = 0\n",
    "        num_solutions = 0\n",
    "#         for q, t in results:\n",
    "\n",
    "        for fn in glob.glob('./{}_output/power*.trace'.format(algo))[:]:\n",
    "            num_runs += 1\n",
    "            fin = open(fn, 'r').readlines()\n",
    "            name = fn.split('/')[-1].split('_')[0]\n",
    "            if algo == 'approx':\n",
    "                time, nV = fin[-1].split()\n",
    "            else:\n",
    "                time, nV = fin[-1].split()[0].split(',')\n",
    "            time, nV = float(time), float(nV)\n",
    "            # add number of acceptable solutions in the given time\n",
    "            if time <= xval and nV <= c:\n",
    "                num_solutions += 1\n",
    "        y.append(num_solutions/float(num_runs))\n",
    "    # plot\n",
    "    ax.plot(x,y,label=str(p)+\"%\")\n",
    "\n",
    "# making plot look pretty\n",
    "ax.set_xlabel('Time (sec)')\n",
    "ax.set_ylabel('P(solve)')\n",
    "ax.set_title('Qualified RTD')\n",
    "handles, labels = ax.get_legend_handles_labels()\n",
    "box = ax.get_position()\n",
    "ax.set_position([box.x0, box.y0, box.width*0.8, box.height])\n",
    "lgd = ax.legend(handles, labels, loc='center left', bbox_to_anchor=(1,0.5))"
   ]
  },
  {
   "cell_type": "code",
   "execution_count": 35,
   "metadata": {},
   "outputs": [
    {
     "data": {
      "image/png": "[encoded data removed]",
      "text/plain": [
       "<Figure size 432x288 with 1 Axes>"
      ]
     },
     "metadata": {
      "needs_background": "light"
     },
     "output_type": "display_data"
    }
   ],
   "source": [
    "maxquality = 10\n",
    "interval = maxquality/100.0\n",
    "times = [0.5,1,5,50,100]\n",
    "\n",
    "fig = plt.figure(2)\n",
    "ax = fig.add_subplot(111)\n",
    "x = np.arange(0, maxquality+interval, interval)\n",
    "\n",
    "for t in times:\n",
    "    y = []\n",
    "    for xval in x:\n",
    "        c = (xval + 1) * optimal\n",
    "        num_runs = 0\n",
    "        num_solutions = 0\n",
    "        \n",
    "        for fn in glob.glob('./{}_output/power*.trace'.format(algo))[:]:\n",
    "            num_runs += 1\n",
    "            fin = open(fn, 'r').readlines()\n",
    "            name = fn.split('/')[-1].split('_')[0]\n",
    "            if algo == 'approx':\n",
    "                time, nV = fin[-1].split()\n",
    "            else:\n",
    "                time, nV = fin[-1].split()[0].split(',')\n",
    "            time, nV = float(time), float(nV)\n",
    "            # add number of acceptable solutions in the given time\n",
    "            if time <= xval and nV <= c:\n",
    "                num_solutions += 1\n",
    "                \n",
    "        y.append(num_solutions/float(num_runs))\n",
    "    # plot\n",
    "    ax.plot(x,y,label=str(t)+\"s\")\n",
    "\n",
    "# making plot look pretty\n",
    "ax.set_xlabel('Relative Solution Quality (%)')\n",
    "ax.set_ylabel('P(solve)')\n",
    "ax.set_title('Solution Quality Distributions')\n",
    "handles, labels = ax.get_legend_handles_labels()\n",
    "box = ax.get_position()\n",
    "ax.set_position([box.x0, box.y0, box.width*0.8, box.height])\n",
    "lgd = ax.legend(handles, labels, loc='center left', bbox_to_anchor=(1,0.5))"
   ]
  },
  {
   "cell_type": "code",
   "execution_count": 36,
   "metadata": {},
   "outputs": [
    {
     "name": "stdout",
     "output_type": "stream",
     "text": [
      "karate\t5.602412000000001\t0.043595519907440046\t14.0\t0.0\t0.0\t14\n",
      "jazz\t25.024942999999997\t0.21319871946379096\t164.1\t1.445683229480096\t0.038607594936708824\t158\n",
      "star2\t598.835696\t0.3752471887489577\t13691.4\t8.151073548925934\t2.0143989431968294\t4542\n",
      "netscience\t134.430244\t0.6680641798240681\t1013.1\t3.7536648758246915\t0.12691879866518357\t899\n",
      "star\t598.676681\t0.29683940002801884\t10517.3\t4.1\t0.5238046942915096\t6902\n",
      "as-22july06\t598.975279\t0.482429258471108\t22651.7\t10.060318086422516\t5.857917045110506\t3303\n",
      "dummy2\t3.034706\t0.027306855622718614\t3.0\t0.0\t2999999999999999.0\t1e-15\n",
      "power\t438.900043\t2.6128315979452212\t4129.2\t11.061645447219865\t0.8743531547889241\t2203\n",
      "dummy1\t3.012015\t0.0127699406811465\t2.0\t0.0\t1999999999999998.8\t1e-15\n",
      "football\t13.627329\t0.11541893158836672\t97.1\t0.9433981132056604\t0.032978723404255256\t94\n",
      "email\t111.72009700000001\t0.5604369802761072\t750.9\t8.299999999999999\t0.2641414141414141\t594\n",
      "hep-th\t598.227039\t0.05529545088883853\t6853.3\t10.109896141899776\t0.745618950585838\t3926\n",
      "delaunay\t97.444624\t0.6234812863302313\t774.4\t4.31740662898458\t0.10156472261735416\t703\n"
     ]
    }
   ],
   "source": [
    "algo = 'GA'\n",
    "record_time, record_nV = {}, {}\n",
    "for fn in glob.glob('./{}_output/*.trace'.format(algo)):\n",
    "\n",
    "    fin = open(fn, 'r').readlines()\n",
    "    name = fn.split('/')[-1].split('_')[0]\n",
    "    try:\n",
    "        if algo == 'approx':\n",
    "            time, nV = fin[-1].split()\n",
    "        else:\n",
    "            time, nV = fin[-1].split()[0].split(',')\n",
    "    except:\n",
    "        print (fn)\n",
    "        continue\n",
    "\n",
    "    time, nV = float(time), float(nV)\n",
    "    if name not in record_time:\n",
    "        record_time[name] = [time]\n",
    "        record_nV[name] = [nV]\n",
    "    else:\n",
    "        record_time[name].append(time)\n",
    "        record_nV[name].append(nV)\n",
    "\n",
    "opt_cutoff = {'karate':14, 'football':94, 'jazz':158, 'email':594, 'delaunay':703,'netscience':899, \\\n",
    "      'power':2203,'as-22july06':3303,'hep-th':3926,'star2':4542,'star':6902}\n",
    "for key in record_time.keys():\n",
    "    opt_nv = opt_cutoff.get('{}'.format(key), 1e-15)\n",
    "    err = (np.mean(record_nV[key]) - opt_nv)/opt_nv\n",
    "    print ('{}\\t{}\\t{}\\t{}\\t{}\\t{}\\t{}'.format(key, \n",
    "                                   np.mean(record_time[key]), np.std(record_time[key]), \n",
    "                                   np.mean(record_nV[key]), np.std(record_nV[key]), err, opt_nv))"
   ]
  },
  {
   "cell_type": "code",
   "execution_count": 37,
   "metadata": {},
   "outputs": [
    {
     "data": {
      "text/plain": [
       "{'whiskers': [<matplotlib.lines.Line2D at 0x7f1a5b5faed0>,\n",
       "  <matplotlib.lines.Line2D at 0x7f1a5b664810>,\n",
       "  <matplotlib.lines.Line2D at 0x7f1a5b5c0ed0>,\n",
       "  <matplotlib.lines.Line2D at 0x7f1a5ba0ec90>],\n",
       " 'caps': [<matplotlib.lines.Line2D at 0x7f1a5ba0e910>,\n",
       "  <matplotlib.lines.Line2D at 0x7f1a5ba0ea10>,\n",
       "  <matplotlib.lines.Line2D at 0x7f1a5b5ca290>,\n",
       "  <matplotlib.lines.Line2D at 0x7f1a5ba074d0>],\n",
       " 'boxes': [<matplotlib.lines.Line2D at 0x7f1a5b6648d0>,\n",
       "  <matplotlib.lines.Line2D at 0x7f1a5b5caed0>],\n",
       " 'medians': [<matplotlib.lines.Line2D at 0x7f1a5b5faa90>,\n",
       "  <matplotlib.lines.Line2D at 0x7f1a5ba07110>],\n",
       " 'fliers': [<matplotlib.lines.Line2D at 0x7f1a5b5ca950>,\n",
       "  <matplotlib.lines.Line2D at 0x7f1a5b5c0250>],\n",
       " 'means': []}"
      ]
     },
     "execution_count": 37,
     "metadata": {},
     "output_type": "execute_result"
    },
    {
     "data": {
      "image/png": "[encoded data removed]",
      "text/plain": [
       "<Figure size 432x288 with 1 Axes>"
      ]
     },
     "metadata": {
      "needs_background": "light"
     },
     "output_type": "display_data"
    }
   ],
   "source": [
    "algo = 'SA'\n",
    "record_time, record_nV = {}, {}\n",
    "record_time_detail = {}\n",
    "for fn in glob.glob('./{}_output/power*.trace'.format(algo))[:]:\n",
    "    sub_detail = {}\n",
    "    fin = open(fn, 'r').readlines()\n",
    "    name = fn.split('/')[-1].split('_')[0]\n",
    "    try:\n",
    "        if algo == 'approx':\n",
    "            time, nV = fin[-1].split()\n",
    "        else:\n",
    "            time, nV = fin[-1].split()[0].split(',')\n",
    "    except:\n",
    "        print (fn)\n",
    "        continue\n",
    "\n",
    "    time, nV = float(time), float(nV)\n",
    "    if name not in record_time:\n",
    "        record_time[name] = [time]\n",
    "        record_nV[name] = [nV]\n",
    "    else:\n",
    "        record_time[name].append(time)\n",
    "        record_nV[name].append(nV)\n",
    "ls1 = np.array(record_time['power'])\n",
    "\n",
    "algo = 'GA'\n",
    "record_time, record_nV = {}, {}\n",
    "record_time_detail = {}\n",
    "for fn in glob.glob('./{}_output/power*.trace'.format(algo))[:]:\n",
    "    sub_detail = {}\n",
    "    fin = open(fn, 'r').readlines()\n",
    "    name = fn.split('/')[-1].split('_')[0]\n",
    "    try:\n",
    "        if algo == 'approx':\n",
    "            time, nV = fin[-1].split()\n",
    "        else:\n",
    "            time, nV = fin[-1].split()[0].split(',')\n",
    "    except:\n",
    "        print (fn)\n",
    "        continue\n",
    "\n",
    "    time, nV = float(time), float(nV)\n",
    "    if name not in record_time:\n",
    "        record_time[name] = [time]\n",
    "        record_nV[name] = [nV]\n",
    "    else:\n",
    "        record_time[name].append(time)\n",
    "        record_nV[name].append(nV)\n",
    "ls2 = np.array(record_time['power'])\n",
    "        \n",
    "fig1, ax1 = plt.subplots()\n",
    "ax1.set_title('Plot')\n",
    "ax1.boxplot([ls1, ls2])"
   ]
  }
 ],
 "metadata": {
  "kernelspec": {
   "display_name": "Python 3",
   "language": "python",
   "name": "python3"
  },
  "language_info": {
   "codemirror_mode": {
    "name": "ipython",
    "version": 3
   },
   "file_extension": ".py",
   "mimetype": "text/x-python",
   "name": "python",
   "nbconvert_exporter": "python",
   "pygments_lexer": "ipython3",
   "version": "3.7.6"
  }
 },
 "nbformat": 4,
 "nbformat_minor": 4
}
