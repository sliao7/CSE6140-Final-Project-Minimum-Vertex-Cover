{
 "cells": [
  {
   "cell_type": "code",
   "execution_count": 16,
   "metadata": {},
   "outputs": [],
   "source": [
    "import matplotlib.pyplot as plt\n",
    "import glob\n",
    "import numpy as np\n",
    "import csv\n",
    "import os, sys, getopt\n",
    "import csv\n",
    "\n",
    "def readfile(tfile_path, c, t):\n",
    "    f = open(tfile_path)\n",
    "    csv_f = csv.reader(f)\n",
    "    for time, quality in csv_f:\n",
    "        if int(quality) <= c and float(time) <= t:\n",
    "            return True\n",
    "    return False"
   ]
  },
  {
   "cell_type": "code",
   "execution_count": 17,
   "metadata": {},
   "outputs": [],
   "source": [
    "opt_cutoff = {'karate':14, 'football':94, 'jazz':158, 'email':594, 'delaunay_n10':703,'netscience':899, \\\n",
    "              'power':2203,'as-22july06':3303,'hep-th':3926,'star2':4542,'star':6902}"
   ]
  },
  {
   "cell_type": "code",
   "execution_count": 45,
   "metadata": {},
   "outputs": [
    {
     "name": "stdout",
     "output_type": "stream",
     "text": [
      "{'star2': [327.78982758522034, 541.9585990905762, 429.50568675994873, 591.917680978775, 472.9427752494812, 378.23771929740906, 557.0073528289795, 553.8911187648773, 431.783704996109, 482.1038465499878]}\n",
      "{'star2': [4551.0, 4547.0, 4548.0, 4549.0, 4545.0, 4547.0, 4550.0, 4547.0, 4547.0, 4547.0]}\n"
     ]
    }
   ],
   "source": [
    "algo = 'SA'\n",
    "dataset = 'star2'\n",
    "record_time, record_nV = {}, {}\n",
    "record_time_detail = {}\n",
    "for fn in glob.glob('./{}_output/{}*.trace'.format(algo, dataset)):\n",
    "    sub_detail = {}\n",
    "    fin = open(fn, 'r').readlines()\n",
    "    name = fn.split('/')[-1].split('_')[0]\n",
    "    try:\n",
    "        if algo == 'approx':\n",
    "            time, nV = fin[-1].split()\n",
    "        else:\n",
    "            time, nV = fin[-1].split()[0].split(',')\n",
    "    except:\n",
    "        print (fn)\n",
    "        continue\n",
    "\n",
    "    time, nV = float(time), float(nV)\n",
    "    if name not in record_time:\n",
    "        record_time[name] = [time]\n",
    "        record_nV[name] = [nV]\n",
    "    else:\n",
    "        record_time[name].append(time)\n",
    "        record_nV[name].append(nV)\n",
    "        \n",
    "#     for i in range(1, len(fin)):\n",
    "#         time, nV = fin[i].split()[0].split(',')\n",
    "#         print (time, nV)\n",
    "print (record_time)\n",
    "print (record_nV)"
   ]
  },
  {
   "cell_type": "code",
   "execution_count": 46,
   "metadata": {},
   "outputs": [
    {
     "data": {
      "image/png": "[encoded data removed]",
      "text/plain": [
       "<Figure size 432x288 with 1 Axes>"
      ]
     },
     "metadata": {
      "needs_background": "light"
     },
     "output_type": "display_data"
    }
   ],
   "source": [
    "percents=[.1,.2,.5,1,2]\n",
    "maxtime = np.max(record_time[dataset])\n",
    "interval = maxtime/100.0\n",
    "optimal = opt_cutoff[dataset]\n",
    "fig = plt.figure(1)\n",
    "ax = fig.add_subplot(111)\n",
    "x = np.arange(0,maxtime+interval,interval)\n",
    "for p in percents:\n",
    "    c = optimal + (optimal * p/100.0)\n",
    "    y = []\n",
    "    for xval in x:\n",
    "        num_runs = 0\n",
    "        num_solutions = 0\n",
    "#         for tfile in os.listdir(tracefile):\n",
    "        for tfile in glob.glob('./{}_output/{}*.trace'.format(algo, dataset)):\n",
    "            result = readfile(tfile, c, xval)\n",
    "            num_runs += 1\n",
    "            if result:\n",
    "                num_solutions += 1\n",
    "        y.append(num_solutions/float(num_runs))\n",
    "    # plot\n",
    "    ax.semilogx(x,y,label=str(p)+\"%\")\n",
    "\n",
    "# making plot look pretty\n",
    "ax.set_xlabel('Time (sec)')\n",
    "ax.set_ylabel('P(solve)')\n",
    "ax.set_title('Qualified RTD')\n",
    "handles, labels = ax.get_legend_handles_labels()\n",
    "box = ax.get_position()\n",
    "ax.set_position([box.x0, box.y0, box.width*0.8, box.height])\n",
    "lgd = ax.legend(handles, labels, loc='center left', bbox_to_anchor=(1,0.5))"
   ]
  },
  {
   "cell_type": "code",
   "execution_count": 50,
   "metadata": {},
   "outputs": [
    {
     "data": {
      "image/png": "[encoded data removed]",
      "text/plain": [
       "<Figure size 432x288 with 1 Axes>"
      ]
     },
     "metadata": {
      "needs_background": "light"
     },
     "output_type": "display_data"
    }
   ],
   "source": [
    "times=[0.5, 1, 5, 10, 20]\n",
    "maxquality = .5\n",
    "interval = maxquality/100.0\n",
    "fig = plt.figure(2)\n",
    "ax = fig.add_subplot(111)\n",
    "x = np.arange(0,maxquality+interval,interval)\n",
    "for t in times:\n",
    "    y = []\n",
    "    for xval in x:\n",
    "        c = (xval + 1) * optimal\n",
    "        num_runs = 0\n",
    "        num_solutions = 0\n",
    "        for tfile in glob.glob('./{}_output/{}*.trace'.format(algo, dataset)):\n",
    "            result = readfile(tfile, c, t)\n",
    "            num_runs += 1\n",
    "            if result:\n",
    "                num_solutions += 1\n",
    "        y.append(num_solutions/float(num_runs))\n",
    "    # plot\n",
    "    ax.plot(x,y,label=str(t)+\"s\")\n",
    "\n",
    "# making plot look pretty\n",
    "ax.set_xlabel('Relative Solution Quality (%)')\n",
    "ax.set_ylabel('P(solve)')\n",
    "ax.set_title('Solution Quality Distributions')\n",
    "handles, labels = ax.get_legend_handles_labels()\n",
    "box = ax.get_position()\n",
    "ax.set_position([box.x0, box.y0, box.width*0.8, box.height])\n",
    "lgd = ax.legend(handles, labels, loc='center left', bbox_to_anchor=(1,0.5))"
   ]
  },
  {
   "cell_type": "code",
   "execution_count": 39,
   "metadata": {},
   "outputs": [
    {
     "name": "stdout",
     "output_type": "stream",
     "text": [
      "hep-th\t89.58912029266358\t143.51016524685127\t3926.0\t0.0\t0.0\t3926\n",
      "dummy1\t0.00025081634521484375\t4.4425257487686596e-06\t2.0\t0.0\t1999999999999998.8\t1e-15\n",
      "as-22july06\t38.619063067436215\t13.192087864031762\t3303.0\t0.0\t0.0\t3303\n",
      "delaunay\t75.33566763401032\t55.16584893930376\t703.4\t0.48989794855663565\t0.0005689900426742208\t703\n",
      "star2\t476.7138312101364\t81.30110196739818\t4547.8\t1.661324772583615\t0.0012769704975781994\t4542\n",
      "netscience\t0.049217510223388675\t0.00026792314320424934\t899.0\t0.0\t0.0\t899\n",
      "dummy2\t0.0002535581588745117\t3.5543564595879492e-06\t3.0\t0.0\t2999999999999999.0\t1e-15\n",
      "karate\t0.0005883455276489257\t7.532706627836184e-06\t14.0\t0.0\t0.0\t14\n",
      "jazz\t0.060322809219360354\t0.027541626240624936\t158.0\t0.0\t0.0\t158\n",
      "email\t4.105719828605652\t2.545893085279006\t594.0\t0.0\t0.0\t594\n",
      "star\t583.3891662836074\t12.420653034591693\t6963.4\t5.2\t0.008895972181976186\t6902\n",
      "power\t85.02687439918517\t40.980767834065546\t2203.0\t0.0\t0.0\t2203\n",
      "football\t0.023671698570251466\t0.02016909276421845\t94.0\t0.0\t0.0\t94\n"
     ]
    }
   ],
   "source": [
    "algo = 'SA'\n",
    "record_time, record_nV = {}, {}\n",
    "for fn in glob.glob('./{}_output/*.trace'.format(algo)):\n",
    "\n",
    "    fin = open(fn, 'r').readlines()\n",
    "    name = fn.split('/')[-1].split('_')[0]\n",
    "    try:\n",
    "        if algo == 'approx':\n",
    "            time, nV = fin[-1].split()\n",
    "        else:\n",
    "            time, nV = fin[-1].split()[0].split(',')\n",
    "    except:\n",
    "        print (fn)\n",
    "        continue\n",
    "\n",
    "    time, nV = float(time), float(nV)\n",
    "    if name not in record_time:\n",
    "        record_time[name] = [time]\n",
    "        record_nV[name] = [nV]\n",
    "    else:\n",
    "        record_time[name].append(time)\n",
    "        record_nV[name].append(nV)\n",
    "\n",
    "opt_cutoff = {'karate':14, 'football':94, 'jazz':158, 'email':594, 'delaunay':703,'netscience':899, \\\n",
    "      'power':2203,'as-22july06':3303,'hep-th':3926,'star2':4542,'star':6902}\n",
    "for key in record_time.keys():\n",
    "    opt_nv = opt_cutoff.get('{}'.format(key), 1e-15)\n",
    "    err = (np.mean(record_nV[key]) - opt_nv)/opt_nv\n",
    "    print ('{}\\t{}\\t{}\\t{}\\t{}\\t{}\\t{}'.format(key, \n",
    "                                   np.mean(record_time[key]), np.std(record_time[key]), \n",
    "                                   np.mean(record_nV[key]), np.std(record_nV[key]), err, opt_nv))"
   ]
  },
  {
   "cell_type": "code",
   "execution_count": 52,
   "metadata": {},
   "outputs": [
    {
     "data": {
      "text/plain": [
       "{'whiskers': [<matplotlib.lines.Line2D at 0x7f0c7d249310>,\n",
       "  <matplotlib.lines.Line2D at 0x7f0c7d20e150>,\n",
       "  <matplotlib.lines.Line2D at 0x7f0c7d249f90>,\n",
       "  <matplotlib.lines.Line2D at 0x7f0c7d248f10>],\n",
       " 'caps': [<matplotlib.lines.Line2D at 0x7f0c7d20e5d0>,\n",
       "  <matplotlib.lines.Line2D at 0x7f0c7d20ead0>,\n",
       "  <matplotlib.lines.Line2D at 0x7f0c7d235950>,\n",
       "  <matplotlib.lines.Line2D at 0x7f0c7d248490>],\n",
       " 'boxes': [<matplotlib.lines.Line2D at 0x7f0c7d2492d0>,\n",
       "  <matplotlib.lines.Line2D at 0x7f0c7d248a50>],\n",
       " 'medians': [<matplotlib.lines.Line2D at 0x7f0c7d248050>,\n",
       "  <matplotlib.lines.Line2D at 0x7f0c7d04a390>],\n",
       " 'fliers': [<matplotlib.lines.Line2D at 0x7f0c7d248550>,\n",
       "  <matplotlib.lines.Line2D at 0x7f0c7d04a890>],\n",
       " 'means': []}"
      ]
     },
     "execution_count": 52,
     "metadata": {},
     "output_type": "execute_result"
    },
    {
     "data": {
      "image/png": "[encoded data removed]",
      "text/plain": [
       "<Figure size 432x288 with 1 Axes>"
      ]
     },
     "metadata": {
      "needs_background": "light"
     },
     "output_type": "display_data"
    }
   ],
   "source": [
    "algo = 'SA'\n",
    "record_time, record_nV = {}, {}\n",
    "record_time_detail = {}\n",
    "for fn in glob.glob('./{}_output/{}*.trace'.format(algo, dataset))[:]:\n",
    "    sub_detail = {}\n",
    "    fin = open(fn, 'r').readlines()\n",
    "    name = fn.split('/')[-1].split('_')[0]\n",
    "    try:\n",
    "        if algo == 'approx':\n",
    "            time, nV = fin[-1].split()\n",
    "        else:\n",
    "            time, nV = fin[-1].split()[0].split(',')\n",
    "    except:\n",
    "        print (fn)\n",
    "        continue\n",
    "\n",
    "    time, nV = float(time), float(nV)\n",
    "    if name not in record_time:\n",
    "        record_time[name] = [time]\n",
    "        record_nV[name] = [nV]\n",
    "    else:\n",
    "        record_time[name].append(time)\n",
    "        record_nV[name].append(nV)\n",
    "ls1 = np.array(record_time[dataset])\n",
    "\n",
    "algo = 'GA'\n",
    "record_time, record_nV = {}, {}\n",
    "record_time_detail = {}\n",
    "for fn in glob.glob('./{}_output/{}*.trace'.format(algo, dataset))[:]:\n",
    "    sub_detail = {}\n",
    "    fin = open(fn, 'r').readlines()\n",
    "    name = fn.split('/')[-1].split('_')[0]\n",
    "    try:\n",
    "        if algo == 'approx':\n",
    "            time, nV = fin[-1].split()\n",
    "        else:\n",
    "            time, nV = fin[-1].split()[0].split(',')\n",
    "    except:\n",
    "        print (fn)\n",
    "        continue\n",
    "\n",
    "    time, nV = float(time), float(nV)\n",
    "    if name not in record_time:\n",
    "        record_time[name] = [time]\n",
    "        record_nV[name] = [nV]\n",
    "    else:\n",
    "        record_time[name].append(time)\n",
    "        record_nV[name].append(nV)\n",
    "ls2 = np.array(record_time[dataset])\n",
    "        \n",
    "fig1, ax1 = plt.subplots()\n",
    "ax1.set_title('Plot')\n",
    "ax1.boxplot([ls1, ls2])"
   ]
  },
  {
   "cell_type": "code",
   "execution_count": null,
   "metadata": {},
   "outputs": [],
   "source": []
  }
 ],
 "metadata": {
  "kernelspec": {
   "display_name": "Python 3",
   "language": "python",
   "name": "python3"
  },
  "language_info": {
   "codemirror_mode": {
    "name": "ipython",
    "version": 3
   },
   "file_extension": ".py",
   "mimetype": "text/x-python",
   "name": "python",
   "nbconvert_exporter": "python",
   "pygments_lexer": "ipython3",
   "version": "3.7.6"
  }
 },
 "nbformat": 4,
 "nbformat_minor": 4
}
