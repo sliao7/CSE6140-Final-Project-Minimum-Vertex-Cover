{
 "cells": [
  {
   "cell_type": "code",
   "execution_count": 2,
   "metadata": {},
   "outputs": [],
   "source": [
    "import time\n",
    "import sys\n",
    "from graph import graph # my own code for graph object\n",
    "import heapq\n",
    "from collections import deque,defaultdict\n",
    "\n",
    "from pulp import LpMaximize, LpProblem, LpStatus, lpSum, LpVariable # for linear programming"
   ]
  },
  {
   "cell_type": "code",
   "execution_count": 13,
   "metadata": {},
   "outputs": [],
   "source": [
    "# read data and construct a graph object\n",
    "def parse_edges(filename):\n",
    "    # parse edges from graph file to create your graph object\n",
    "    # filename: string of the filename\n",
    "    f = open(filename, \"r\")\n",
    "    n_vertices, n_edges, _ = f.readline().split(' ')\n",
    "    n_vertices, n_edges = int(n_vertices), int(n_edges)\n",
    "\n",
    "    G = graph() # create a graph\n",
    "\n",
    "    # add edges to the graph\n",
    "    for i in range(1,n_vertices+1):\n",
    "        neighbors = map(int, f.readline().split(' ')) \n",
    "        for neighbor in neighbors:\n",
    "            if neighbor > i:\n",
    "                G.add_edge(i, neighbor)\n",
    "    return G  "
   ]
  },
  {
   "cell_type": "code",
   "execution_count": 19,
   "metadata": {},
   "outputs": [],
   "source": [
    "Dummy1 = parse_edges('../DATA/dummy1.graph')"
   ]
  },
  {
   "cell_type": "code",
   "execution_count": 20,
   "metadata": {},
   "outputs": [
    {
     "name": "stdout",
     "output_type": "stream",
     "text": [
      "1 adjacent: [4, 6, 5, 2, 3]\n",
      "2 adjacent: [3, 1]\n",
      "3 adjacent: [2, 1]\n",
      "4 adjacent: [1]\n",
      "5 adjacent: [1]\n",
      "6 adjacent: [1]\n"
     ]
    }
   ],
   "source": [
    "for v in Dummy1:\n",
    "    print(v)"
   ]
  },
  {
   "cell_type": "markdown",
   "metadata": {},
   "source": [
    "## Transform a graph to a Linear Programming Problem to find minimum vertex cover"
   ]
  },
  {
   "cell_type": "code",
   "execution_count": null,
   "metadata": {},
   "outputs": [],
   "source": [
    "# construct a linear programming problem from a graph object\n"
   ]
  },
  {
   "cell_type": "markdown",
   "metadata": {},
   "source": [
    "## Solve a linear programming problem"
   ]
  },
  {
   "cell_type": "code",
   "execution_count": 11,
   "metadata": {},
   "outputs": [
    {
     "name": "stdout",
     "output_type": "stream",
     "text": [
      "status: 1, Optimal\n",
      "objective: 1800.0\n",
      "x1: 0.0\n",
      "x2: 0.0\n",
      "x3: 45.0\n",
      "x4: 0.0\n",
      "y1: 0.0\n",
      "y3: 1.0\n",
      "manpower: -5.0\n",
      "material_a: -55.0\n",
      "material_b: 0.0\n",
      "x1_constraint: 0.0\n",
      "x3_constraint: -55.0\n",
      "y_constraint: 0.0\n"
     ]
    }
   ],
   "source": [
    "model = LpProblem(name=\"resource-allocation\", sense=LpMaximize)\n",
    " # Define the decision variables\n",
    "x = {i: LpVariable(name=f\"x{i}\", lowBound=0) for i in range(1, 5)}\n",
    "y = {i: LpVariable(name=f\"y{i}\", cat=\"Binary\") for i in (1, 3)}\n",
    "# Add constraints\n",
    "model += (lpSum(x.values()) <= 50, \"manpower\")\n",
    "model += (3 * x[1] + 2 * x[2] + x[3] <= 100, \"material_a\")\n",
    "model += (x[2] + 2 * x[3] + 3 * x[4] <= 90, \"material_b\")\n",
    "\n",
    "M = 100\n",
    "model += (x[1] <= y[1] * M, \"x1_constraint\")\n",
    "model += (x[3] <= y[3] * M, \"x3_constraint\")\n",
    "model += (y[1] + y[3] <= 1, \"y_constraint\")\n",
    "\n",
    "# Set objective\n",
    "model += 20 * x[1] + 12 * x[2] + 40 * x[3] + 25 * x[4]\n",
    "\n",
    "# Solve the optimization problem\n",
    "status = model.solve()\n",
    "\n",
    "print(f\"status: {model.status}, {LpStatus[model.status]}\")\n",
    "print(f\"objective: {model.objective.value()}\")\n",
    "\n",
    "for var in model.variables():\n",
    "    print(f\"{var.name}: {var.value()}\")\n",
    "\n",
    "for name, constraint in model.constraints.items():\n",
    "    print(f\"{name}: {constraint.value()}\")"
   ]
  }
 ],
 "metadata": {
  "kernelspec": {
   "display_name": "Python 3",
   "language": "python",
   "name": "python3"
  },
  "language_info": {
   "codemirror_mode": {
    "name": "ipython",
    "version": 3
   },
   "file_extension": ".py",
   "mimetype": "text/x-python",
   "name": "python",
   "nbconvert_exporter": "python",
   "pygments_lexer": "ipython3",
   "version": "3.7.3"
  }
 },
 "nbformat": 4,
 "nbformat_minor": 2
}
